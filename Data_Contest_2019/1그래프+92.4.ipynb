{
  "nbformat": 4,
  "nbformat_minor": 0,
  "metadata": {
    "colab": {
      "name": "1_fashion_mnist.ipynb",
      "provenance": [],
      "collapsed_sections": []
    },
    "kernelspec": {
      "name": "python3",
      "display_name": "Python 3"
    },
    "language_info": {
      "codemirror_mode": {
        "name": "ipython",
        "version": 3
      },
      "file_extension": ".py",
      "mimetype": "text/x-python",
      "name": "python",
      "nbconvert_exporter": "python",
      "pygments_lexer": "ipython3",
      "version": "3.7.5"
    },
    "accelerator": "GPU"
  },
  "cells": [
    {
      "cell_type": "markdown",
      "metadata": {
        "id": "4o0qmsmgNR2Q",
        "colab_type": "text"
      },
      "source": [
        "# Remarks\n",
        " - 강연에서 배운 딥러닝 용어들이 어떻게 코드에 있는지 확인해보기\n",
        " - Activation 함수, cost 함수, CNN 등"
      ]
    },
    {
      "cell_type": "code",
      "metadata": {
        "colab_type": "code",
        "id": "7r73FBz0XJkV",
        "outputId": "5c2073ad-c14e-4656-c023-9ed70678675a",
        "colab": {
          "base_uri": "https://localhost:8080/",
          "height": 70
        }
      },
      "source": [
        "import keras\n",
        "from keras.datasets import fashion_mnist\n",
        "from keras.models import Sequential\n",
        "from keras.layers import Dense, Dropout, Flatten\n",
        "from keras.layers import Conv2D, MaxPooling2D\n",
        "import numpy as np\n",
        "import matplotlib.pyplot as plt\n",
        "\n",
        "num_classes = 10\n",
        "\n",
        "# input image dimensions\n",
        "img_rows, img_cols = 28, 28\n",
        "\n",
        "# the data, split between train and test sets\n",
        "(x_train, y_train), (x_test, y_test) = fashion_mnist.load_data()\n",
        "\n",
        "x_train = x_train.reshape(x_train.shape[0], img_rows, img_cols, 1)\n",
        "x_test = x_test.reshape(x_test.shape[0], img_rows, img_cols, 1)\n",
        "input_shape = (img_rows, img_cols, 1)\n",
        "\n",
        "x_train = x_train.astype('float32')\n",
        "x_test = x_test.astype('float32')\n",
        "x_train /= 255\n",
        "x_test /= 255\n",
        "print('x_train shape:', x_train.shape)\n",
        "print(x_train.shape[0], 'train samples')\n",
        "print(x_test.shape[0], 'test samples')\n",
        "\n",
        "# convert class vectors to binary class matrices\n",
        "y_train = keras.utils.to_categorical(y_train, num_classes)\n",
        "y_test = keras.utils.to_categorical(y_test, num_classes)"
      ],
      "execution_count": 53,
      "outputs": [
        {
          "output_type": "stream",
          "text": [
            "x_train shape: (60000, 28, 28, 1)\n",
            "60000 train samples\n",
            "10000 test samples\n"
          ],
          "name": "stdout"
        }
      ]
    },
    {
      "cell_type": "code",
      "metadata": {
        "colab_type": "code",
        "id": "8d9Aq-unXLZs",
        "outputId": "12a2bb01-f04a-4f82-aaa6-48e3d59e4486",
        "colab": {
          "base_uri": "https://localhost:8080/",
          "height": 34
        }
      },
      "source": [
        "# 학습 및 테스트 데이터의 shape\n",
        "\n",
        "print (x_train.shape, y_train.shape, x_test.shape, y_test.shape)"
      ],
      "execution_count": 54,
      "outputs": [
        {
          "output_type": "stream",
          "text": [
            "(60000, 28, 28, 1) (60000, 10) (10000, 28, 28, 1) (10000, 10)\n"
          ],
          "name": "stdout"
        }
      ]
    },
    {
      "cell_type": "markdown",
      "metadata": {
        "id": "XjD6F88xNR3E",
        "colab_type": "text"
      },
      "source": [
        "## 클래스가 10개인 Multi class classification\n",
        "\n",
        "| Label | Description  | \n",
        "|:---:|:---:|\n",
        "|  0 | T-shirt/top  | \n",
        "|  1 | Trouser  | \n",
        "|  2 | Pullover  |\n",
        "|  3 | Dress  | \n",
        "|  4 | Coat  | \n",
        "|  5 | Sandal  | \n",
        "|  6 | Shirt  | \n",
        "|  7 | Sneake  | \n",
        "|  8 | Bag  | \n",
        "|  9 | Ankle boot  | "
      ]
    },
    {
      "cell_type": "code",
      "metadata": {
        "scrolled": true,
        "id": "dEEsTXbFNR3F",
        "colab_type": "code",
        "outputId": "8083568e-c6eb-4243-ec59-62df4f727d4b",
        "colab": {
          "base_uri": "https://localhost:8080/",
          "height": 125
        }
      },
      "source": [
        "sample_size = 10\n",
        "\n",
        "idx_s = np.random.randint(0,len(x_train), sample_size)\n",
        "fig, ax = plt.subplots(1, sample_size, figsize=(sample_size*2, 2))\n",
        "\n",
        "for i in range(sample_size):\n",
        "    ax[i].set_axis_off()\n",
        "    ax[i].imshow(np.reshape(x_train[idx_s][i], [28,28]),cmap=\"gray\")"
      ],
      "execution_count": 55,
      "outputs": [
        {
          "output_type": "display_data",
          "data": {
            "image/png": "[encoded data removed]",
            "text/plain": [
              "<Figure size 1440x144 with 10 Axes>"
            ]
          },
          "metadata": {
            "tags": []
          }
        }
      ]
    },
    {
      "cell_type": "markdown",
      "metadata": {
        "id": "5mE2W8_FNR3L",
        "colab_type": "text"
      },
      "source": [
        "# 아래 모델을 본인이 수정하거나 새로운 레이어를 추가해서 더 높은 테스트 데이터 정확도 얻기!!\n",
        "\n",
        "## Hint\n",
        " - 최적화 알고리즘의 끝판왕은?\n",
        " - 본인이 선호하는 activation 함수로 변경해보기\n",
        " - 새로운 hidden layer를 추가(선형함수가 아닌 activation)\n",
        " - Multi class 분류이기 때문에 마지막 layer의 activation은 무조건 **softmax**를 사용하여야 함!\n",
        " - 참고: [Dropout](https://mjgim.me/2018/01/02/overfitting.html)"
      ]
    },
    {
      "cell_type": "code",
      "metadata": {
        "colab_type": "code",
        "id": "bNRi5XOtXSuF",
        "colab": {}
      },
      "source": [
        "model = Sequential()\n",
        "model.add(Conv2D(32, kernel_size=(3, 3),padding='same',\n",
        "                 activation='relu',\n",
        "                 input_shape=input_shape))\n",
        "model.add(MaxPooling2D((2, 2)))\n",
        "model.add(Dropout(0.25))\n",
        "\n",
        "\n",
        "model.add(Conv2D(64, (3, 3),padding='same', activation='relu'))\n",
        "model.add(MaxPooling2D(pool_size=(2, 2)))\n",
        "model.add(Dropout(0.25))\n",
        "\n",
        "model.add(Conv2D(128, (3, 3), activation='relu'))\n",
        "model.add(Dropout(0.4))\n",
        "\n",
        "model.add(Flatten())\n",
        "model.add(Dense(128, activation='relu'))\n",
        "model.add(Dropout(0.5))\n",
        "\n",
        "model.add(Dense(num_classes, activation='softmax'))\n",
        "\n",
        "model.compile(loss=keras.losses.categorical_crossentropy,\n",
        "              optimizer='adam',\n",
        "              metrics=['accuracy'])\n",
        "\n"
      ],
      "execution_count": 0,
      "outputs": []
    },
    {
      "cell_type": "code",
      "metadata": {
        "id": "x_CO3cpqNR3Q",
        "colab_type": "code",
        "colab": {}
      },
      "source": [
        "# 관심있는 학생은 verbose, batch_size, validation_split이 무엇인지 찾아서 공부해보세요"
      ],
      "execution_count": 0,
      "outputs": []
    },
    {
      "cell_type": "code",
      "metadata": {
        "colab_type": "code",
        "id": "zOVj-cJUXZ5b",
        "outputId": "8b22b17d-b23d-4856-e64c-c5bca3ee6dee",
        "colab": {
          "base_uri": "https://localhost:8080/",
          "height": 1000
        }
      },
      "source": [
        "batch_size = 256\n",
        "epochs = 35\n",
        "\n",
        "train_model=model.fit(x_train, y_train,\n",
        "          batch_size=batch_size,\n",
        "          epochs=epochs,\n",
        "          verbose=1,\n",
        "          validation_split=0.3)"
      ],
      "execution_count": 57,
      "outputs": [
        {
          "output_type": "stream",
          "text": [
            "Train on 42000 samples, validate on 18000 samples\n",
            "Epoch 1/35\n",
            "42000/42000 [==============================] - 3s 76us/step - loss: 0.8591 - acc: 0.6850 - val_loss: 0.4803 - val_acc: 0.8239\n",
            "Epoch 2/35\n",
            "42000/42000 [==============================] - 2s 50us/step - loss: 0.5115 - acc: 0.8150 - val_loss: 0.3898 - val_acc: 0.8579\n",
            "Epoch 3/35\n",
            "42000/42000 [==============================] - 2s 50us/step - loss: 0.4412 - acc: 0.8422 - val_loss: 0.3351 - val_acc: 0.8776\n",
            "Epoch 4/35\n",
            "42000/42000 [==============================] - 2s 49us/step - loss: 0.3944 - acc: 0.8578 - val_loss: 0.3181 - val_acc: 0.8826\n",
            "Epoch 5/35\n",
            "42000/42000 [==============================] - 2s 50us/step - loss: 0.3695 - acc: 0.8678 - val_loss: 0.2966 - val_acc: 0.8916\n",
            "Epoch 6/35\n",
            "42000/42000 [==============================] - 2s 50us/step - loss: 0.3513 - acc: 0.8742 - val_loss: 0.2987 - val_acc: 0.8890\n",
            "Epoch 7/35\n",
            "42000/42000 [==============================] - 2s 50us/step - loss: 0.3325 - acc: 0.8783 - val_loss: 0.2767 - val_acc: 0.8974\n",
            "Epoch 8/35\n",
            "42000/42000 [==============================] - 2s 50us/step - loss: 0.3162 - acc: 0.8865 - val_loss: 0.2779 - val_acc: 0.8968\n",
            "Epoch 9/35\n",
            "42000/42000 [==============================] - 2s 50us/step - loss: 0.3080 - acc: 0.8881 - val_loss: 0.2600 - val_acc: 0.9033\n",
            "Epoch 10/35\n",
            "42000/42000 [==============================] - 2s 50us/step - loss: 0.2956 - acc: 0.8935 - val_loss: 0.2547 - val_acc: 0.9037\n",
            "Epoch 11/35\n",
            "42000/42000 [==============================] - 2s 49us/step - loss: 0.2892 - acc: 0.8962 - val_loss: 0.2458 - val_acc: 0.9102\n",
            "Epoch 12/35\n",
            "42000/42000 [==============================] - 2s 50us/step - loss: 0.2730 - acc: 0.9019 - val_loss: 0.2571 - val_acc: 0.9049\n",
            "Epoch 13/35\n",
            "42000/42000 [==============================] - 2s 51us/step - loss: 0.2755 - acc: 0.9008 - val_loss: 0.2348 - val_acc: 0.9132\n",
            "Epoch 14/35\n",
            "42000/42000 [==============================] - 2s 51us/step - loss: 0.2655 - acc: 0.9034 - val_loss: 0.2281 - val_acc: 0.9153\n",
            "Epoch 15/35\n",
            "42000/42000 [==============================] - 2s 51us/step - loss: 0.2603 - acc: 0.9059 - val_loss: 0.2371 - val_acc: 0.9116\n",
            "Epoch 16/35\n",
            "42000/42000 [==============================] - 2s 51us/step - loss: 0.2508 - acc: 0.9083 - val_loss: 0.2295 - val_acc: 0.9159\n",
            "Epoch 17/35\n",
            "42000/42000 [==============================] - 2s 51us/step - loss: 0.2464 - acc: 0.9094 - val_loss: 0.2269 - val_acc: 0.9169\n",
            "Epoch 18/35\n",
            "42000/42000 [==============================] - 2s 50us/step - loss: 0.2429 - acc: 0.9113 - val_loss: 0.2187 - val_acc: 0.9193\n",
            "Epoch 19/35\n",
            "42000/42000 [==============================] - 2s 50us/step - loss: 0.2379 - acc: 0.9131 - val_loss: 0.2272 - val_acc: 0.9159\n",
            "Epoch 20/35\n",
            "42000/42000 [==============================] - 2s 50us/step - loss: 0.2372 - acc: 0.9117 - val_loss: 0.2146 - val_acc: 0.9219\n",
            "Epoch 21/35\n",
            "42000/42000 [==============================] - 2s 50us/step - loss: 0.2289 - acc: 0.9157 - val_loss: 0.2167 - val_acc: 0.9212\n",
            "Epoch 22/35\n",
            "42000/42000 [==============================] - 2s 50us/step - loss: 0.2232 - acc: 0.9180 - val_loss: 0.2205 - val_acc: 0.9198\n",
            "Epoch 23/35\n",
            "42000/42000 [==============================] - 2s 50us/step - loss: 0.2238 - acc: 0.9177 - val_loss: 0.2090 - val_acc: 0.9258\n",
            "Epoch 24/35\n",
            "42000/42000 [==============================] - 2s 49us/step - loss: 0.2182 - acc: 0.9195 - val_loss: 0.2125 - val_acc: 0.9231\n",
            "Epoch 25/35\n",
            "42000/42000 [==============================] - 2s 49us/step - loss: 0.2163 - acc: 0.9204 - val_loss: 0.2105 - val_acc: 0.9254\n",
            "Epoch 26/35\n",
            "42000/42000 [==============================] - 2s 49us/step - loss: 0.2133 - acc: 0.9225 - val_loss: 0.2207 - val_acc: 0.9211\n",
            "Epoch 27/35\n",
            "42000/42000 [==============================] - 2s 50us/step - loss: 0.2076 - acc: 0.9234 - val_loss: 0.2076 - val_acc: 0.9261\n",
            "Epoch 28/35\n",
            "42000/42000 [==============================] - 2s 50us/step - loss: 0.2081 - acc: 0.9234 - val_loss: 0.2120 - val_acc: 0.9250\n",
            "Epoch 29/35\n",
            "42000/42000 [==============================] - 2s 50us/step - loss: 0.2061 - acc: 0.9237 - val_loss: 0.2042 - val_acc: 0.9256\n",
            "Epoch 30/35\n",
            "42000/42000 [==============================] - 2s 50us/step - loss: 0.2023 - acc: 0.9259 - val_loss: 0.2015 - val_acc: 0.9281\n",
            "Epoch 31/35\n",
            "42000/42000 [==============================] - 2s 49us/step - loss: 0.1983 - acc: 0.9264 - val_loss: 0.2070 - val_acc: 0.9268\n",
            "Epoch 32/35\n",
            "42000/42000 [==============================] - 2s 50us/step - loss: 0.1949 - acc: 0.9269 - val_loss: 0.2037 - val_acc: 0.9287\n",
            "Epoch 33/35\n",
            "42000/42000 [==============================] - 2s 49us/step - loss: 0.1959 - acc: 0.9268 - val_loss: 0.2043 - val_acc: 0.9256\n",
            "Epoch 34/35\n",
            "42000/42000 [==============================] - 2s 50us/step - loss: 0.1938 - acc: 0.9272 - val_loss: 0.2027 - val_acc: 0.9288\n",
            "Epoch 35/35\n",
            "42000/42000 [==============================] - 2s 50us/step - loss: 0.1943 - acc: 0.9280 - val_loss: 0.1981 - val_acc: 0.9308\n"
          ],
          "name": "stdout"
        }
      ]
    },
    {
      "cell_type": "code",
      "metadata": {
        "id": "cfG3ZbTds90S",
        "colab_type": "code",
        "colab": {
          "base_uri": "https://localhost:8080/",
          "height": 390
        },
        "outputId": "e057fbd8-e6e3-4a1d-9681-3612a64d8f8e"
      },
      "source": [
        "def plot_result(train_model):\n",
        "    hist = train_model.history\n",
        "    acc = hist['acc']\n",
        "    val_acc = hist['val_acc']\n",
        "    loss = hist['loss']\n",
        "    val_loss = hist['val_loss']\n",
        "    epochs = range(len(acc))\n",
        "    fig, ax = plt.subplots(1,2, figsize=(14,6))\n",
        "    \n",
        "    ax[0].plot(epochs, acc, 'g', label='Training accuracy')\n",
        "    ax[0].plot(epochs, val_acc, 'r', label='Validation accuracy')\n",
        "    ax[0].set_title('Training and validation accuracy')\n",
        "    ax[0].legend(loc=1)\n",
        "    ax[1].plot(epochs, loss, 'g', label='Training loss')\n",
        "    ax[1].plot(epochs, val_loss, 'r', label='Validation loss')\n",
        "    ax[1].set_title('Training and validation loss')\n",
        "    ax[1].legend(loc=1)\n",
        "    plt.show()\n",
        "    \n",
        "plot_result(train_model)"
      ],
      "execution_count": 58,
      "outputs": [
        {
          "output_type": "display_data",
          "data": {
            "image/png": "[encoded data removed]",
            "text/plain": [
              "<Figure size 1008x432 with 2 Axes>"
            ]
          },
          "metadata": {
            "tags": []
          }
        }
      ]
    },
    {
      "cell_type": "code",
      "metadata": {
        "colab_type": "code",
        "id": "ilcl5xKLYEQF",
        "outputId": "5ecba471-fb79-49d6-8d54-b0c054edc908",
        "colab": {
          "base_uri": "https://localhost:8080/",
          "height": 52
        }
      },
      "source": [
        "score = model.evaluate(x_test, y_test, verbose=0)\n",
        "print('Test loss:', score[0])\n",
        "print('Test accuracy:', score[1])"
      ],
      "execution_count": 59,
      "outputs": [
        {
          "output_type": "stream",
          "text": [
            "Test loss: 0.21523219652175904\n",
            "Test accuracy: 0.9249\n"
          ],
          "name": "stdout"
        }
      ]
    },
    {
      "cell_type": "code",
      "metadata": {
        "colab_type": "code",
        "id": "GoaMuntyZXC0",
        "colab": {}
      },
      "source": [
        ""
      ],
      "execution_count": 0,
      "outputs": []
    }
  ]
}