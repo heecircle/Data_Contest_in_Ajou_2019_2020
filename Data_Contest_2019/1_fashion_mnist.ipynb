{
  "nbformat": 4,
  "nbformat_minor": 0,
  "metadata": {
    "colab": {
      "name": "1_fashion_mnist.ipynb",
      "provenance": [],
      "collapsed_sections": []
    },
    "kernelspec": {
      "name": "python3",
      "display_name": "Python 3"
    },
    "language_info": {
      "codemirror_mode": {
        "name": "ipython",
        "version": 3
      },
      "file_extension": ".py",
      "mimetype": "text/x-python",
      "name": "python",
      "nbconvert_exporter": "python",
      "pygments_lexer": "ipython3",
      "version": "3.7.5"
    },
    "accelerator": "GPU"
  },
  "cells": [
    {
      "cell_type": "markdown",
      "metadata": {
        "id": "4o0qmsmgNR2Q",
        "colab_type": "text"
      },
      "source": [
        "# Remarks\n",
        " - 강연에서 배운 딥러닝 용어들이 어떻게 코드에 있는지 확인해보기\n",
        " - Activation 함수, cost 함수, CNN 등"
      ]
    },
    {
      "cell_type": "code",
      "metadata": {
        "colab_type": "code",
        "id": "7r73FBz0XJkV",
        "outputId": "3271dc10-2c07-4877-c203-896496f1881d",
        "colab": {
          "base_uri": "https://localhost:8080/",
          "height": 70
        }
      },
      "source": [
        "import keras\n",
        "from keras.datasets import fashion_mnist\n",
        "from keras.models import Sequential\n",
        "from keras.layers import Dense, Dropout, Flatten\n",
        "from keras.layers import Conv2D, MaxPooling2D\n",
        "import numpy as np\n",
        "import matplotlib.pyplot as plt\n",
        "\n",
        "num_classes = 10\n",
        "\n",
        "# input image dimensions\n",
        "img_rows, img_cols = 28, 28\n",
        "\n",
        "# the data, split between train and test sets\n",
        "(x_train, y_train), (x_test, y_test) = fashion_mnist.load_data()\n",
        "\n",
        "x_train = x_train.reshape(x_train.shape[0], img_rows, img_cols, 1)\n",
        "x_test = x_test.reshape(x_test.shape[0], img_rows, img_cols, 1)\n",
        "input_shape = (img_rows, img_cols, 1)\n",
        "\n",
        "x_train = x_train.astype('float32')\n",
        "x_test = x_test.astype('float32')\n",
        "x_train /= 255\n",
        "x_test /= 255\n",
        "print('x_train shape:', x_train.shape)\n",
        "print(x_train.shape[0], 'train samples')\n",
        "print(x_test.shape[0], 'test samples')\n",
        "\n",
        "# convert class vectors to binary class matrices\n",
        "y_train = keras.utils.to_categorical(y_train, num_classes)\n",
        "y_test = keras.utils.to_categorical(y_test, num_classes)"
      ],
      "execution_count": 31,
      "outputs": [
        {
          "output_type": "stream",
          "text": [
            "x_train shape: (60000, 28, 28, 1)\n",
            "60000 train samples\n",
            "10000 test samples\n"
          ],
          "name": "stdout"
        }
      ]
    },
    {
      "cell_type": "code",
      "metadata": {
        "colab_type": "code",
        "id": "8d9Aq-unXLZs",
        "outputId": "6847c4d2-e712-45b8-f1b9-74935d4bc12b",
        "colab": {
          "base_uri": "https://localhost:8080/",
          "height": 34
        }
      },
      "source": [
        "# 학습 및 테스트 데이터의 shape\n",
        "\n",
        "print (x_train.shape, y_train.shape, x_test.shape, y_test.shape)"
      ],
      "execution_count": 32,
      "outputs": [
        {
          "output_type": "stream",
          "text": [
            "(60000, 28, 28, 1) (60000, 10) (10000, 28, 28, 1) (10000, 10)\n"
          ],
          "name": "stdout"
        }
      ]
    },
    {
      "cell_type": "markdown",
      "metadata": {
        "id": "XjD6F88xNR3E",
        "colab_type": "text"
      },
      "source": [
        "## 클래스가 10개인 Multi class classification\n",
        "\n",
        "| Label | Description  | \n",
        "|:---:|:---:|\n",
        "|  0 | T-shirt/top  | \n",
        "|  1 | Trouser  | \n",
        "|  2 | Pullover  |\n",
        "|  3 | Dress  | \n",
        "|  4 | Coat  | \n",
        "|  5 | Sandal  | \n",
        "|  6 | Shirt  | \n",
        "|  7 | Sneake  | \n",
        "|  8 | Bag  | \n",
        "|  9 | Ankle boot  | "
      ]
    },
    {
      "cell_type": "code",
      "metadata": {
        "scrolled": true,
        "id": "dEEsTXbFNR3F",
        "colab_type": "code",
        "outputId": "5871dfe1-a539-49af-833f-1a00021ab1c9",
        "colab": {
          "base_uri": "https://localhost:8080/",
          "height": 145
        }
      },
      "source": [
        "sample_size = 10\n",
        "\n",
        "idx_s = np.random.randint(0,len(x_train), sample_size)\n",
        "fig, ax = plt.subplots(1, sample_size, figsize=(sample_size*2, 2))\n",
        "\n",
        "for i in range(sample_size):\n",
        "    ax[i].set_axis_off()\n",
        "    ax[i].imshow(np.reshape(x_train[idx_s][i], [28,28]),cmap=\"gray\")"
      ],
      "execution_count": 33,
      "outputs": [
        {
          "output_type": "display_data",
          "data": {
            "image/png": "[encoded data removed]",
            "text/plain": [
              "<Figure size 1440x144 with 10 Axes>"
            ]
          },
          "metadata": {
            "tags": []
          }
        }
      ]
    },
    {
      "cell_type": "markdown",
      "metadata": {
        "id": "5mE2W8_FNR3L",
        "colab_type": "text"
      },
      "source": [
        "# 아래 모델을 본인이 수정하거나 새로운 레이어를 추가해서 더 높은 테스트 데이터 정확도 얻기!!\n",
        "\n",
        "## Hint\n",
        " - 최적화 알고리즘의 끝판왕은?\n",
        " - 본인이 선호하는 activation 함수로 변경해보기\n",
        " - 새로운 hidden layer를 추가(선형함수가 아닌 activation)\n",
        " - Multi class 분류이기 때문에 마지막 layer의 activation은 무조건 **softmax**를 사용하여야 함!\n",
        " - 참고: [Dropout](https://mjgim.me/2018/01/02/overfitting.html)"
      ]
    },
    {
      "cell_type": "code",
      "metadata": {
        "colab_type": "code",
        "id": "bNRi5XOtXSuF",
        "colab": {}
      },
      "source": [
        "model = Sequential()\n",
        "model.add(Conv2D(32, kernel_size=(3, 3),padding='same',\n",
        "                 activation='relu',\n",
        "                 input_shape=input_shape))\n",
        "\n",
        "\n",
        "model.add(Conv2D(64, (3, 3),padding='same', activation='relu'))\n",
        "model.add(MaxPooling2D(pool_size=(2, 2)))\n",
        "model.add(Dropout(0.25))\n",
        "\n",
        "model.add(Flatten())\n",
        "model.add(Dense(128, activation='relu'))\n",
        "model.add(Dropout(0.5))\n",
        "\n",
        "model.add(Dense(num_classes, activation='softmax'))\n",
        "\n",
        "model.compile(loss=keras.losses.categorical_crossentropy,\n",
        "              optimizer='adam',\n",
        "              metrics=['accuracy'])\n",
        "\n"
      ],
      "execution_count": 0,
      "outputs": []
    },
    {
      "cell_type": "code",
      "metadata": {
        "id": "x_CO3cpqNR3Q",
        "colab_type": "code",
        "colab": {}
      },
      "source": [
        "# 관심있는 학생은 verbose, batch_size, validation_split이 무엇인지 찾아서 공부해보세요"
      ],
      "execution_count": 0,
      "outputs": []
    },
    {
      "cell_type": "code",
      "metadata": {
        "colab_type": "code",
        "id": "zOVj-cJUXZ5b",
        "outputId": "01f22748-7b06-40fc-b755-6810062188a1",
        "colab": {
          "base_uri": "https://localhost:8080/",
          "height": 1000
        }
      },
      "source": [
        "batch_size = 256\n",
        "epochs = 30\n",
        "\n",
        "model.fit(x_train, y_train,\n",
        "          batch_size=batch_size,\n",
        "          epochs=epochs,\n",
        "          verbose=1,\n",
        "          validation_split=0.3)"
      ],
      "execution_count": 35,
      "outputs": [
        {
          "output_type": "stream",
          "text": [
            "Train on 42000 samples, validate on 18000 samples\n",
            "Epoch 1/30\n",
            "42000/42000 [==============================] - 4s 103us/step - loss: 0.6409 - acc: 0.7734 - val_loss: 0.3742 - val_acc: 0.8649\n",
            "Epoch 2/30\n",
            "42000/42000 [==============================] - 4s 86us/step - loss: 0.3841 - acc: 0.8648 - val_loss: 0.3069 - val_acc: 0.8884\n",
            "Epoch 3/30\n",
            "42000/42000 [==============================] - 4s 86us/step - loss: 0.3328 - acc: 0.8820 - val_loss: 0.2791 - val_acc: 0.8974\n",
            "Epoch 4/30\n",
            "42000/42000 [==============================] - 4s 85us/step - loss: 0.2959 - acc: 0.8932 - val_loss: 0.2752 - val_acc: 0.8982\n",
            "Epoch 5/30\n",
            "42000/42000 [==============================] - 4s 85us/step - loss: 0.2750 - acc: 0.8999 - val_loss: 0.2470 - val_acc: 0.9101\n",
            "Epoch 6/30\n",
            "42000/42000 [==============================] - 4s 86us/step - loss: 0.2545 - acc: 0.9074 - val_loss: 0.2430 - val_acc: 0.9117\n",
            "Epoch 7/30\n",
            "42000/42000 [==============================] - 4s 86us/step - loss: 0.2347 - acc: 0.9155 - val_loss: 0.2381 - val_acc: 0.9138\n",
            "Epoch 8/30\n",
            "42000/42000 [==============================] - 4s 85us/step - loss: 0.2188 - acc: 0.9200 - val_loss: 0.2278 - val_acc: 0.9173\n",
            "Epoch 9/30\n",
            "42000/42000 [==============================] - 4s 86us/step - loss: 0.2161 - acc: 0.9190 - val_loss: 0.2208 - val_acc: 0.9213\n",
            "Epoch 10/30\n",
            "42000/42000 [==============================] - 4s 85us/step - loss: 0.1968 - acc: 0.9269 - val_loss: 0.2233 - val_acc: 0.9214\n",
            "Epoch 11/30\n",
            "42000/42000 [==============================] - 4s 85us/step - loss: 0.1859 - acc: 0.9300 - val_loss: 0.2201 - val_acc: 0.9244\n",
            "Epoch 12/30\n",
            "42000/42000 [==============================] - 4s 86us/step - loss: 0.1742 - acc: 0.9357 - val_loss: 0.2127 - val_acc: 0.9287\n",
            "Epoch 13/30\n",
            "42000/42000 [==============================] - 4s 85us/step - loss: 0.1600 - acc: 0.9400 - val_loss: 0.2207 - val_acc: 0.9266\n",
            "Epoch 14/30\n",
            "42000/42000 [==============================] - 4s 85us/step - loss: 0.1558 - acc: 0.9416 - val_loss: 0.2154 - val_acc: 0.9261\n",
            "Epoch 15/30\n",
            "42000/42000 [==============================] - 4s 85us/step - loss: 0.1468 - acc: 0.9452 - val_loss: 0.2200 - val_acc: 0.9282\n",
            "Epoch 16/30\n",
            "42000/42000 [==============================] - 4s 85us/step - loss: 0.1352 - acc: 0.9490 - val_loss: 0.2256 - val_acc: 0.9296\n",
            "Epoch 17/30\n",
            "42000/42000 [==============================] - 4s 84us/step - loss: 0.1297 - acc: 0.9505 - val_loss: 0.2239 - val_acc: 0.9296\n",
            "Epoch 18/30\n",
            "42000/42000 [==============================] - 4s 84us/step - loss: 0.1239 - acc: 0.9538 - val_loss: 0.2149 - val_acc: 0.9290\n",
            "Epoch 19/30\n",
            "42000/42000 [==============================] - 4s 84us/step - loss: 0.1131 - acc: 0.9576 - val_loss: 0.2357 - val_acc: 0.9259\n",
            "Epoch 20/30\n",
            "42000/42000 [==============================] - 4s 84us/step - loss: 0.1097 - acc: 0.9587 - val_loss: 0.2369 - val_acc: 0.9279\n",
            "Epoch 21/30\n",
            "42000/42000 [==============================] - 4s 84us/step - loss: 0.1041 - acc: 0.9601 - val_loss: 0.2331 - val_acc: 0.9303\n",
            "Epoch 22/30\n",
            "42000/42000 [==============================] - 4s 84us/step - loss: 0.0981 - acc: 0.9618 - val_loss: 0.2327 - val_acc: 0.9299\n",
            "Epoch 23/30\n",
            "42000/42000 [==============================] - 4s 84us/step - loss: 0.0941 - acc: 0.9650 - val_loss: 0.2409 - val_acc: 0.9292\n",
            "Epoch 24/30\n",
            "42000/42000 [==============================] - 4s 84us/step - loss: 0.0884 - acc: 0.9661 - val_loss: 0.2429 - val_acc: 0.9296\n",
            "Epoch 25/30\n",
            "42000/42000 [==============================] - 4s 84us/step - loss: 0.0920 - acc: 0.9648 - val_loss: 0.2565 - val_acc: 0.9301\n",
            "Epoch 26/30\n",
            "42000/42000 [==============================] - 4s 84us/step - loss: 0.0860 - acc: 0.9671 - val_loss: 0.2617 - val_acc: 0.9312\n",
            "Epoch 27/30\n",
            "42000/42000 [==============================] - 4s 84us/step - loss: 0.0819 - acc: 0.9689 - val_loss: 0.2457 - val_acc: 0.9325\n",
            "Epoch 28/30\n",
            "42000/42000 [==============================] - 4s 83us/step - loss: 0.0782 - acc: 0.9693 - val_loss: 0.2462 - val_acc: 0.9323\n",
            "Epoch 29/30\n",
            "42000/42000 [==============================] - 4s 84us/step - loss: 0.0742 - acc: 0.9716 - val_loss: 0.2661 - val_acc: 0.9284\n",
            "Epoch 30/30\n",
            "42000/42000 [==============================] - 4s 84us/step - loss: 0.0718 - acc: 0.9720 - val_loss: 0.2611 - val_acc: 0.9311\n"
          ],
          "name": "stdout"
        },
        {
          "output_type": "execute_result",
          "data": {
            "text/plain": [
              "<keras.callbacks.History at 0x7f3f937812e8>"
            ]
          },
          "metadata": {
            "tags": []
          },
          "execution_count": 35
        }
      ]
    },
    {
      "cell_type": "code",
      "metadata": {
        "colab_type": "code",
        "id": "ilcl5xKLYEQF",
        "outputId": "c7bda765-d934-4e92-9545-060d2761682b",
        "colab": {
          "base_uri": "https://localhost:8080/",
          "height": 52
        }
      },
      "source": [
        "score = model.evaluate(x_test, y_test, verbose=0)\n",
        "print('Test loss:', score[0])\n",
        "print('Test accuracy:', score[1])"
      ],
      "execution_count": 36,
      "outputs": [
        {
          "output_type": "stream",
          "text": [
            "Test loss: 0.28031343204379083\n",
            "Test accuracy: 0.9293\n"
          ],
          "name": "stdout"
        }
      ]
    },
    {
      "cell_type": "code",
      "metadata": {
        "colab_type": "code",
        "id": "GoaMuntyZXC0",
        "colab": {}
      },
      "source": [
        ""
      ],
      "execution_count": 0,
      "outputs": []
    }
  ]
}